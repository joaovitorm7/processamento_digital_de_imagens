{
 "cells": [
  {
   "cell_type": "code",
   "execution_count": null,
   "metadata": {},
   "outputs": [
    {
     "name": "stdout",
     "output_type": "stream",
     "text": [
      "Erro: As coordenadas iniciais não podem ser negativas.\n",
      "Erro: As coordenadas finais estão fora dos limites da imagem.\n",
      "Erro: As coordenadas iniciais devem ser menores que as finais.\n"
     ]
    }
   ],
   "source": [
    "from PIL import Image\n",
    "\n",
    "def crop_image_manually(image, crop_area): \n",
    "    largura, altura = image.size\n",
    "    \n",
    "    x_inicial, y_inicial, x_final, y_final = crop_area\n",
    "    \n",
    "    if x_inicial < 0 or y_inicial < 0:\n",
    "        return \"Erro: As coordenadas iniciais não podem ser negativas.\"\n",
    "    if x_final > largura or y_final > altura:\n",
    "        return \"Erro: As coordenadas finais estão fora dos limites da imagem.\"\n",
    "    if x_inicial >= x_final or y_inicial >= y_final:\n",
    "        return \"Erro: As coordenadas iniciais devem ser menores que as finais.\"\n",
    "    \n",
    "    nova_largura = x_final - x_inicial\n",
    "    nova_altura = y_final - y_inicial\n",
    "    nova_imagem = Image.new(\"RGB\", (nova_largura, nova_altura))\n",
    "    \n",
    "    for y in range(nova_altura):\n",
    "        for x in range(nova_largura):\n",
    "            pixel = image.getpixel((x_inicial + x, y_inicial + y))\n",
    "            nova_imagem.putpixel((x, y), pixel)\n",
    "    \n",
    "    return nova_imagem\n",
    "\n",
    "area_valida = (50, 50, 200, 200)\n",
    "imagem_cortada = crop_image_manually(imagem, area_valida)\n",
    "if isinstance(imagem_cortada, str):\n",
    "    print(imagem_cortada) \n",
    "else:\n",
    "    imagem_cortada.show() \n",
    "\n",
    "area_invalida_1 = (-10, 10, 100, 100)\n",
    "print(crop_image_manually(imagem, area_invalida_1))\n",
    "\n",
    "area_invalida_2 = (10, 10, 5000, 5000)\n",
    "print(crop_image_manually(imagem, area_invalida_2))\n",
    "\n",
    "area_invalida_3 = (100, 50, 50, 200)\n",
    "print(crop_image_manually(imagem, area_invalida_3))\n",
    "\n"
   ]
  }
 ],
 "metadata": {
  "kernelspec": {
   "display_name": "Python 3",
   "language": "python",
   "name": "python3"
  },
  "language_info": {
   "codemirror_mode": {
    "name": "ipython",
    "version": 3
   },
   "file_extension": ".py",
   "mimetype": "text/x-python",
   "name": "python",
   "nbconvert_exporter": "python",
   "pygments_lexer": "ipython3",
   "version": "3.12.2"
  }
 },
 "nbformat": 4,
 "nbformat_minor": 2
}
