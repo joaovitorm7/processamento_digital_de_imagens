{
 "cells": [
  {
   "cell_type": "code",
   "execution_count": 4,
   "metadata": {},
   "outputs": [],
   "source": [
    "from PIL import Image\n",
    "\n",
    "def criar_bandeira_brasil_manual(largura):\n",
    "    altura = int(largura * 14 / 20) \n",
    "    verde = (0, 155, 58)  \n",
    "    amarelo = (255, 223, 0)  \n",
    "    azul = (0, 39, 118)  \n",
    "\n",
    "    imagem = Image.new(\"RGB\", (largura, altura), verde)\n",
    "    pixels = imagem.load()\n",
    "\n",
    "    largura_losango = int((8 / 14) * altura) \n",
    "    altura_losango = int((5 / 14) * altura)  \n",
    "\n",
    "    diametro_circulo = int((4 / 5) * altura_losango)  \n",
    "    raio_circulo = diametro_circulo // 2\n",
    "    centro_circulo = (largura // 2, altura // 2)\n",
    "\n",
    "    for y in range(altura):\n",
    "        for x in range(largura):\n",
    "            dx = abs(x - largura // 2)\n",
    "            dy = abs(y - altura // 2)\n",
    "            if dx * altura_losango + dy * largura_losango <= largura_losango * altura_losango:\n",
    "                pixels[x, y] = amarelo\n",
    "\n",
    "    for y in range(altura):\n",
    "        for x in range(largura):\n",
    "            dx = x - centro_circulo[0]\n",
    "            dy = y - centro_circulo[1]\n",
    "            if dx**2 + dy**2 <= raio_circulo**2: \n",
    "                pixels[x, y] = azul\n",
    "\n",
    "    imagem.show()\n",
    "\n",
    "if __name__ == \"__main__\":\n",
    "    largura_bandeira = int(input(\"Digite a largura da bandeira (ex.: 1000): \"))\n",
    "    criar_bandeira_brasil_manual(largura_bandeira)\n"
   ]
  }
 ],
 "metadata": {
  "kernelspec": {
   "display_name": "Python 3",
   "language": "python",
   "name": "python3"
  },
  "language_info": {
   "codemirror_mode": {
    "name": "ipython",
    "version": 3
   },
   "file_extension": ".py",
   "mimetype": "text/x-python",
   "name": "python",
   "nbconvert_exporter": "python",
   "pygments_lexer": "ipython3",
   "version": "3.12.2"
  }
 },
 "nbformat": 4,
 "nbformat_minor": 2
}
