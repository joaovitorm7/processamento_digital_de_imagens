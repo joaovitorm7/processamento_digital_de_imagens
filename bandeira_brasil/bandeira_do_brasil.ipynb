{
 "cells": [
  {
   "cell_type": "code",
   "execution_count": 4,
   "metadata": {},
   "outputs": [],
   "source": [
    "from PIL import Image, ImageDraw\n",
    "\n",
    "def criar_bandeira_brasil(largura):\n",
    "    # Proporções oficiais da bandeira\n",
    "    altura = int(largura * 14 / 20)  # Altura proporcional à largura (20:14)\n",
    "    verde = (0, 155, 58)  # Cor do fundo (verde)\n",
    "    amarelo = (255, 223, 0)  # Cor do losango (amarelo)\n",
    "    azul = (0, 39, 118)  # Cor do círculo (azul)\n",
    "\n",
    "    # Criando a imagem base\n",
    "    imagem = Image.new(\"RGB\", (largura, altura), verde)\n",
    "    desenhador = ImageDraw.Draw(imagem)\n",
    "\n",
    "    # Dimensões do losango amarelo\n",
    "    largura_losango = int((10 / 14) * altura)  # Base maior\n",
    "    altura_losango = int((7 / 14) * altura)  # Altura do losango\n",
    "\n",
    "    # Coordenadas do losango (desenho por vértices)\n",
    "    coordenadas_losango = [\n",
    "        (largura // 2, altura // 2 - altura_losango // 2),  # Topo\n",
    "        (largura // 2 + largura_losango // 2, altura // 2),  # Direita\n",
    "        (largura // 2, altura // 2 + altura_losango // 2),  # Base\n",
    "        (largura // 2 - largura_losango // 2, altura // 2),  # Esquerda\n",
    "    ]\n",
    "    desenhador.polygon(coordenadas_losango, fill=amarelo)  # Desenhar o losango amarelo\n",
    "\n",
    "    # Dimensão e posição do círculo azul \n",
    "    diametro_circulo = int((3 / 5) * altura_losango)  # Ajustar o diâmetro do círculo\n",
    "    canto_superior_esquerdo = (\n",
    "        largura // 2 - diametro_circulo // 2,\n",
    "        altura // 2 - diametro_circulo // 2,\n",
    "    )\n",
    "    canto_inferior_direito = (\n",
    "        largura // 2 + diametro_circulo // 2,\n",
    "        altura // 2 + diametro_circulo // 2,\n",
    "    )\n",
    "    desenhador.ellipse([canto_superior_esquerdo, canto_inferior_direito], fill=azul)  # Desenhar o círculo azul\n",
    "\n",
    "    # Exibir a imagem no visualizador padrão\n",
    "    imagem.show()\n",
    "\n",
    "# Bloco principal para execução\n",
    "if __name__ == \"__main__\":\n",
    "    largura_bandeira = int(input(\"Digite a largura da bandeira: ex.:1000 \"))\n",
    "    criar_bandeira_brasil(largura_bandeira)\n"
   ]
  }
 ],
 "metadata": {
  "kernelspec": {
   "display_name": "Python 3",
   "language": "python",
   "name": "python3"
  },
  "language_info": {
   "codemirror_mode": {
    "name": "ipython",
    "version": 3
   },
   "file_extension": ".py",
   "mimetype": "text/x-python",
   "name": "python",
   "nbconvert_exporter": "python",
   "pygments_lexer": "ipython3",
   "version": "3.12.2"
  }
 },
 "nbformat": 4,
 "nbformat_minor": 2
}
